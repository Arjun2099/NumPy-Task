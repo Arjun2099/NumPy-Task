{
 "cells": [
  {
   "cell_type": "code",
   "execution_count": 3,
   "metadata": {},
   "outputs": [],
   "source": [
    "import numpy as np"
   ]
  },
  {
   "cell_type": "code",
   "execution_count": 4,
   "metadata": {},
   "outputs": [
    {
     "name": "stdout",
     "output_type": "stream",
     "text": [
      "[1, 3, 5, 7, 9]\n"
     ]
    }
   ],
   "source": [
    "myPythonList = [1,3,5,7,9]\n",
    "print(myPythonList)\n",
    "\n",
    "#### prints the list"
   ]
  },
  {
   "cell_type": "code",
   "execution_count": 5,
   "metadata": {},
   "outputs": [
    {
     "data": {
      "text/plain": [
       "array([1, 3, 5, 7, 9])"
      ]
     },
     "execution_count": 5,
     "metadata": {},
     "output_type": "execute_result"
    }
   ],
   "source": [
    "numpy_array_from_list = np.array(myPythonList)\n",
    "numpy_array_from_list\n",
    "\n",
    "#### makes array from list"
   ]
  },
  {
   "cell_type": "code",
   "execution_count": 6,
   "metadata": {},
   "outputs": [
    {
     "name": "stdout",
     "output_type": "stream",
     "text": [
      "[1 3 5 7 9]\n"
     ]
    }
   ],
   "source": [
    "a = np.array([1,3,5,7,9])\n",
    "print(a)\n",
    "\n",
    "#### prints array"
   ]
  },
  {
   "cell_type": "code",
   "execution_count": 7,
   "metadata": {},
   "outputs": [
    {
     "name": "stdout",
     "output_type": "stream",
     "text": [
      "[11 13 15 17 19]\n"
     ]
    }
   ],
   "source": [
    "x = numpy_array_from_list + 10\n",
    "print(x)\n",
    "\n",
    "#### adds 10 to array and prints"
   ]
  },
  {
   "cell_type": "code",
   "execution_count": 9,
   "metadata": {},
   "outputs": [
    {
     "name": "stdout",
     "output_type": "stream",
     "text": [
      "(3,)\n",
      "int32\n"
     ]
    }
   ],
   "source": [
    "b = np.array([1,2,3])\n",
    "print(b.shape)\n",
    "print(b.dtype)\n",
    "\n",
    "#### gives shape that is the number of rows and columns\n",
    "#### also gives the datatype of the values inside the array"
   ]
  },
  {
   "cell_type": "code",
   "execution_count": 10,
   "metadata": {},
   "outputs": [
    {
     "name": "stdout",
     "output_type": "stream",
     "text": [
      "float64\n"
     ]
    }
   ],
   "source": [
    "c = np.array([1,2,3.0,4.56,5])\n",
    "print(c.dtype)\n",
    "\n",
    "#### gives out datatype of the value inside the array"
   ]
  },
  {
   "cell_type": "code",
   "execution_count": 11,
   "metadata": {},
   "outputs": [
    {
     "name": "stdout",
     "output_type": "stream",
     "text": [
      "[[1 2 3]\n",
      " [4 5 6]]\n"
     ]
    }
   ],
   "source": [
    "d = np.array([(1,2,3),\n",
    "                (4,5,6)])\n",
    "print(d)\n",
    "\n",
    "#### an array in 2 dimension"
   ]
  },
  {
   "cell_type": "code",
   "execution_count": 13,
   "metadata": {},
   "outputs": [
    {
     "name": "stdout",
     "output_type": "stream",
     "text": [
      "(2, 2, 3)\n",
      "[[[ 1  2  3]\n",
      "  [ 4  5  6]]\n",
      "\n",
      " [[ 7  8  9]\n",
      "  [10 11 12]]]\n"
     ]
    }
   ],
   "source": [
    "e = np.array([\n",
    "    [[1, 2,3],\n",
    "        [4, 5, 6]],\n",
    "    [[7, 8,9],\n",
    "        [10, 11, 12]]\n",
    "])\n",
    "print(e.shape)\n",
    "(2, 2, 3)\n",
    "print(e)\n",
    "\n",
    "#### an array in 3 dimension"
   ]
  },
  {
   "cell_type": "code",
   "execution_count": 14,
   "metadata": {},
   "outputs": [
    {
     "name": "stdout",
     "output_type": "stream",
     "text": [
      "[[0 0]\n",
      " [0 0]]\n"
     ]
    }
   ],
   "source": [
    "import numpy as np\n",
    "x = np.zeros((2,2), dtype = np.int16)\n",
    "print(x)\n",
    "\n",
    "#### zero matrix of size 2x2"
   ]
  },
  {
   "cell_type": "code",
   "execution_count": 15,
   "metadata": {},
   "outputs": [
    {
     "name": "stdout",
     "output_type": "stream",
     "text": [
      "(1, 2, 3)\n",
      "[[[1 1 1]\n",
      "  [1 1 1]]]\n"
     ]
    }
   ],
   "source": [
    "import numpy as np\n",
    "y= np.ones((1,2,3), dtype=np.int16)\n",
    "print(y.shape)\n",
    "print(y)\n",
    "\n",
    "#### gives the shape of matrix and gives out a ones matrix of the size corresponding to the shape of y"
   ]
  },
  {
   "cell_type": "code",
   "execution_count": 16,
   "metadata": {},
   "outputs": [
    {
     "name": "stdout",
     "output_type": "stream",
     "text": [
      "[[1 2 3]\n",
      " [4 5 6]]\n"
     ]
    },
    {
     "data": {
      "text/plain": [
       "array([[1, 2],\n",
       "       [3, 4],\n",
       "       [5, 6]])"
      ]
     },
     "execution_count": 16,
     "metadata": {},
     "output_type": "execute_result"
    }
   ],
   "source": [
    "import numpy as np\n",
    "e = np.array([(1,2,3), (4,5,6)])\n",
    "print(e)\n",
    "e.reshape(3,2)\n",
    "\n",
    "#### to reshaping the data to our convenience"
   ]
  },
  {
   "cell_type": "code",
   "execution_count": 17,
   "metadata": {},
   "outputs": [
    {
     "data": {
      "text/plain": [
       "array([1, 2, 3, 4, 5, 6])"
      ]
     },
     "execution_count": 17,
     "metadata": {},
     "output_type": "execute_result"
    }
   ],
   "source": [
    "e.flatten()\n",
    "\n",
    "#### gives out all the data in a single line"
   ]
  },
  {
   "cell_type": "code",
   "execution_count": 18,
   "metadata": {},
   "outputs": [
    {
     "name": "stdout",
     "output_type": "stream",
     "text": [
      "Horizontal Append: [4 5 6 7 8 9]\n"
     ]
    }
   ],
   "source": [
    "import numpy as np\n",
    "f = np.array([4,5,6])\n",
    "g = np.array([7,8,9])\n",
    "\n",
    "print('Horizontal Append:', np.hstack((f, g)))\n",
    "\n",
    "#### displays data of both f and g horizontally using hstack"
   ]
  },
  {
   "cell_type": "code",
   "execution_count": 19,
   "metadata": {},
   "outputs": [
    {
     "name": "stdout",
     "output_type": "stream",
     "text": [
      "Vertical Append: [[1 3 5]\n",
      " [2 4 6]]\n"
     ]
    }
   ],
   "source": [
    "import numpy as np\n",
    "f = np.array([1,3,5])\n",
    "g = np.array([2,4,6])\n",
    "\n",
    "print('Vertical Append:', np.vstack((f,g)))\n",
    "\n",
    "#### displays data of both f and g vertically using vstack"
   ]
  },
  {
   "cell_type": "code",
   "execution_count": 20,
   "metadata": {},
   "outputs": [
    {
     "name": "stdout",
     "output_type": "stream",
     "text": [
      "[4.38350382 4.60919453 4.27684004 4.8072866  4.96327016 5.34605245\n",
      " 4.76171815 5.84830545 5.35251341 4.6115976 ]\n"
     ]
    }
   ],
   "source": [
    "normal_array = np.random.normal(5, 0.5, 10)\n",
    "print(normal_array)\n",
    "\n",
    "#### generates random numbers by specifying the mean the deviation and number of returns"
   ]
  },
  {
   "cell_type": "code",
   "execution_count": 21,
   "metadata": {},
   "outputs": [
    {
     "name": "stdout",
     "output_type": "stream",
     "text": [
      "[[1. 1. 1. 1.]\n",
      " [1. 1. 1. 1.]\n",
      " [1. 1. 1. 1.]\n",
      " [1. 1. 1. 1.]]\n"
     ]
    }
   ],
   "source": [
    "A = np.matrix(np.ones((4,4)))\n",
    "print(A)\n",
    "\n",
    "#### ones matrix of size 4x4"
   ]
  },
  {
   "cell_type": "code",
   "execution_count": 22,
   "metadata": {},
   "outputs": [
    {
     "name": "stdout",
     "output_type": "stream",
     "text": [
      "[[1. 1. 1. 1.]\n",
      " [1. 1. 1. 1.]\n",
      " [2. 2. 2. 2.]\n",
      " [1. 1. 1. 1.]]\n"
     ]
    }
   ],
   "source": [
    "np.asarray(A)[2]=2\n",
    "print(A)\n",
    "\n",
    "#### prints input as an array"
   ]
  },
  {
   "cell_type": "code",
   "execution_count": 23,
   "metadata": {},
   "outputs": [
    {
     "data": {
      "text/plain": [
       "array([ 1,  2,  3,  4,  5,  6,  7,  8,  9, 10])"
      ]
     },
     "execution_count": 23,
     "metadata": {},
     "output_type": "execute_result"
    }
   ],
   "source": [
    "np.arange(1, 11)\n",
    "\n",
    "#### arranges numbers from 1 to 11"
   ]
  },
  {
   "cell_type": "code",
   "execution_count": 24,
   "metadata": {},
   "outputs": [
    {
     "data": {
      "text/plain": [
       "array([ 1. ,  1.8,  2.6,  3.4,  4.2,  5. ,  5.8,  6.6,  7.4,  8.2,  9. ,\n",
       "        9.8, 10.6, 11.4, 12.2, 13. , 13.8, 14.6, 15.4, 16.2, 17. , 17.8,\n",
       "       18.6, 19.4])"
      ]
     },
     "execution_count": 24,
     "metadata": {},
     "output_type": "execute_result"
    }
   ],
   "source": [
    "np.arange(1, 20, 0.8)\n",
    "\n",
    "#### arranges numbers from 1 to 20 with 0.8 as the deviation between two consecutive numbers"
   ]
  },
  {
   "cell_type": "code",
   "execution_count": 25,
   "metadata": {},
   "outputs": [
    {
     "data": {
      "text/plain": [
       "array([ 0.5  ,  1.825,  3.15 ,  4.475,  5.8  ,  7.125,  8.45 ,  9.775,\n",
       "       11.1  , 12.425, 13.75 , 15.075, 16.4  , 17.725, 19.05 , 20.375,\n",
       "       21.7  ])"
      ]
     },
     "execution_count": 25,
     "metadata": {},
     "output_type": "execute_result"
    }
   ],
   "source": [
    "import numpy as np\n",
    "np.linspace(0.5, 21.7, num=17)\n",
    "\n",
    "#### gives out evencly spaced output between the numbers"
   ]
  },
  {
   "cell_type": "code",
   "execution_count": 26,
   "metadata": {},
   "outputs": [
    {
     "data": {
      "text/plain": [
       "array([ 0.,  1.,  2.,  3.,  4.,  5.,  6.,  7.,  8.,  9., 10., 11., 12.,\n",
       "       13., 14., 15., 16., 17., 18., 19.])"
      ]
     },
     "execution_count": 26,
     "metadata": {},
     "output_type": "execute_result"
    }
   ],
   "source": [
    "np.linspace(0.0, 20.0, num=20, endpoint=False)"
   ]
  },
  {
   "cell_type": "code",
   "execution_count": 28,
   "metadata": {},
   "outputs": [
    {
     "data": {
      "text/plain": [
       "array([1.00000000e+100, 1.09854114e+102, 1.20679264e+104, 1.32571137e+106,\n",
       "       1.45634848e+108, 1.59985872e+110, 1.75751062e+112, 1.93069773e+114,\n",
       "       2.12095089e+116, 2.32995181e+118, 2.55954792e+120, 2.81176870e+122,\n",
       "       3.08884360e+124, 3.39322177e+126, 3.72759372e+128, 4.09491506e+130,\n",
       "       4.49843267e+132, 4.94171336e+134, 5.42867544e+136, 5.96362332e+138,\n",
       "       6.55128557e+140, 7.19685673e+142, 7.90604321e+144, 8.68511374e+146,\n",
       "       9.54095476e+148, 1.04811313e+151, 1.15139540e+153, 1.26485522e+155,\n",
       "       1.38949549e+157, 1.52641797e+159, 1.67683294e+161, 1.84206997e+163,\n",
       "       2.02358965e+165, 2.22299648e+167, 2.44205309e+169, 2.68269580e+171,\n",
       "       2.94705170e+173, 3.23745754e+175, 3.55648031e+177, 3.90693994e+179,\n",
       "       4.29193426e+181, 4.71486636e+183, 5.17947468e+185, 5.68986603e+187,\n",
       "       6.25055193e+189, 6.86648845e+191, 7.54312006e+193, 8.28642773e+195,\n",
       "       9.10298178e+197, 1.00000000e+200])"
      ]
     },
     "execution_count": 28,
     "metadata": {},
     "output_type": "execute_result"
    }
   ],
   "source": [
    "np.logspace(100.0, 200.0, num=50)\n",
    "\n",
    "#### similar to linspace but gives out log values of input numbers"
   ]
  },
  {
   "cell_type": "code",
   "execution_count": 29,
   "metadata": {},
   "outputs": [
    {
     "data": {
      "text/plain": [
       "16"
      ]
     },
     "execution_count": 29,
     "metadata": {},
     "output_type": "execute_result"
    }
   ],
   "source": [
    "x = np.array([1,2,3], dtype=np.complex128)\n",
    "x.itemsize\t"
   ]
  },
  {
   "cell_type": "code",
   "execution_count": 30,
   "metadata": {},
   "outputs": [
    {
     "name": "stdout",
     "output_type": "stream",
     "text": [
      "[[1 2 3]\n",
      " [3 2 1]]\n"
     ]
    }
   ],
   "source": [
    "import numpy as np\n",
    "e  = np.array([(1,2,3), (3,2,1)])\n",
    "print(e)\n",
    "\n",
    "#### slices data"
   ]
  },
  {
   "cell_type": "code",
   "execution_count": 31,
   "metadata": {},
   "outputs": [
    {
     "name": "stdout",
     "output_type": "stream",
     "text": [
      "First Row: [1 2 3]\n",
      "Second Row: [3 2 1]\n"
     ]
    }
   ],
   "source": [
    "print('First Row:', e[0])\n",
    "print('Second Row:', e[1])\n",
    "\n",
    "#### first and second column"
   ]
  },
  {
   "cell_type": "code",
   "execution_count": 32,
   "metadata": {},
   "outputs": [
    {
     "name": "stdout",
     "output_type": "stream",
     "text": [
      "Second Column: [2 2]\n"
     ]
    }
   ],
   "source": [
    "print('Second Column:', e[:,1])\n",
    "\n",
    "#### prints out second column"
   ]
  },
  {
   "cell_type": "code",
   "execution_count": 33,
   "metadata": {},
   "outputs": [
    {
     "name": "stdout",
     "output_type": "stream",
     "text": [
      "[3 2]\n"
     ]
    }
   ],
   "source": [
    "print(e[1, :2])\n",
    "\n",
    "#### 2 values of second row"
   ]
  },
  {
   "cell_type": "code",
   "execution_count": 34,
   "metadata": {},
   "outputs": [
    {
     "name": "stdout",
     "output_type": "stream",
     "text": [
      "[2 2]\n"
     ]
    }
   ],
   "source": [
    "print(e[:2,1])\n",
    "\n",
    "#### 2 values of second column"
   ]
  },
  {
   "cell_type": "code",
   "execution_count": 35,
   "metadata": {},
   "outputs": [
    {
     "name": "stdout",
     "output_type": "stream",
     "text": [
      "[1.08415199 1.28521345 1.82472859 0.84017108 1.09951091 1.73521992\n",
      " 0.73298946 0.7433513  1.55926832 1.52891449]\n"
     ]
    }
   ],
   "source": [
    "import numpy as np\n",
    "normal_array = np.random.normal(1, 0.5, 10)\n",
    "print(normal_array)\t\n",
    "\n",
    "#### normal is given as output"
   ]
  },
  {
   "cell_type": "code",
   "execution_count": 36,
   "metadata": {},
   "outputs": [
    {
     "name": "stdout",
     "output_type": "stream",
     "text": [
      "0.7329894598045319\n",
      "1.8247285880117947\n",
      "1.243351950750342\n",
      "1.1923621786282776\n",
      "0.38497981902897427\n"
     ]
    }
   ],
   "source": [
    "print(np.min(normal_array))\n",
    "print(np.max(normal_array))\n",
    "print(np.mean(normal_array))\n",
    "print(np.median(normal_array))\n",
    "print(np.std(normal_array))\n",
    "\n",
    "#### prints out min max mean median and std"
   ]
  },
  {
   "cell_type": "code",
   "execution_count": 39,
   "metadata": {},
   "outputs": [
    {
     "data": {
      "text/plain": [
       "10"
      ]
     },
     "execution_count": 39,
     "metadata": {},
     "output_type": "execute_result"
    }
   ],
   "source": [
    "a = np.array([1,2,3])\n",
    "b = np.array([3,2,1])\n",
    "\n",
    "np.dot(a, b)\n",
    "\n",
    "#### dot product"
   ]
  },
  {
   "cell_type": "code",
   "execution_count": 41,
   "metadata": {},
   "outputs": [
    {
     "data": {
      "text/plain": [
       "array([[17, 16],\n",
       "       [39, 38]])"
      ]
     },
     "execution_count": 41,
     "metadata": {},
     "output_type": "execute_result"
    }
   ],
   "source": [
    "p = [[1,2],[3,4]]\n",
    "q = [[5,6],[6,5]]\n",
    "\n",
    "np.matmul(p, q)\n",
    "\n",
    "#### gives out matrix multiplication value"
   ]
  },
  {
   "cell_type": "code",
   "execution_count": 42,
   "metadata": {},
   "outputs": [
    {
     "name": "stdout",
     "output_type": "stream",
     "text": [
      "[[ 0.17647059 -0.00326797 -0.02287582]\n",
      " [ 0.05882353 -0.13071895  0.08496732]\n",
      " [-0.11764706  0.1503268   0.05228758]]\n"
     ]
    }
   ],
   "source": [
    "A = np.array([[6, 1, 1],\n",
    "                [4, -2, 5],\n",
    "                [2, 8, 7]])\n",
    "\n",
    "print(np.linalg.inv(A))\n",
    "\n",
    "#### inversing a matrix"
   ]
  },
  {
   "cell_type": "code",
   "execution_count": 43,
   "metadata": {},
   "outputs": [
    {
     "name": "stdout",
     "output_type": "stream",
     "text": [
      "Numpy Matrix is:\n",
      "[[50 29]\n",
      " [30 44]]\n",
      "\n",
      "Determinant of given 2X2 matrix is:\n",
      "1330\n"
     ]
    }
   ],
   "source": [
    "nArray = np.array([[50, 29], [30, 44]])\n",
    "\n",
    "print(\"Numpy Matrix is:\")\n",
    "print(nArray)\n",
    "\n",
    "det = np.linalg.det(nArray)\n",
    "\n",
    "print(\"\\nDeterminant of given 2X2 matrix is:\")\n",
    "print(int(det))\n",
    "\n",
    "#### determinant of a matrix"
   ]
  },
  {
   "cell_type": "code",
   "execution_count": 44,
   "metadata": {},
   "outputs": [
    {
     "data": {
      "text/plain": [
       "3"
      ]
     },
     "execution_count": 44,
     "metadata": {},
     "output_type": "execute_result"
    }
   ],
   "source": [
    "x = np.array([[1,1,1], [0,1,2], [1,5,3]])\n",
    "\n",
    "np.linalg.matrix_rank(x)\n",
    "\n",
    "#### matrix rank"
   ]
  },
  {
   "cell_type": "code",
   "execution_count": 45,
   "metadata": {},
   "outputs": [
    {
     "name": "stdout",
     "output_type": "stream",
     "text": [
      "[ 3.62093727e+01 -2.20937271e+00 -3.18863232e-15 -1.34840081e-16] [[-0.15115432  0.72704996  0.50370019 -0.06456091]\n",
      " [-0.34923733  0.28320876 -0.8319577  -0.31932112]\n",
      " [-0.54732033 -0.16063243  0.15281481  0.83232496]\n",
      " [-0.74540333 -0.60447363  0.17544269 -0.44844294]]\n"
     ]
    }
   ],
   "source": [
    "ex_matrix = np.array([\n",
    "    [1,2,3,4],\n",
    "    [5,6,7,8],\n",
    "    [9,10,11,12],\n",
    "    [13,14,15,16]\n",
    "])\n",
    "eigenvalues, eigenvectors = np.linalg.eig(ex_matrix)\n",
    "print(eigenvalues, eigenvectors)\n",
    "\n",
    "#### to get eigenvalues and eigen vectors"
   ]
  },
  {
   "cell_type": "code",
   "execution_count": 46,
   "metadata": {},
   "outputs": [
    {
     "name": "stdout",
     "output_type": "stream",
     "text": [
      "[[6 4]]\n"
     ]
    }
   ],
   "source": [
    "d = np.matrix('[6, 2; 3, 4]')\n",
    "\n",
    "diag = d.diagonal()\n",
    "\n",
    "print(diag)\n",
    "\n",
    "#### gives diagonal elements"
   ]
  },
  {
   "cell_type": "code",
   "execution_count": 47,
   "metadata": {},
   "outputs": [
    {
     "name": "stdout",
     "output_type": "stream",
     "text": [
      "[[ 1  5]\n",
      " [ 2 10]]\n"
     ]
    }
   ],
   "source": [
    "t = np.matrix('[1, 2; 5, 10]')\n",
    "\n",
    "trans = t.transpose()\n",
    " \n",
    "print(trans)\n",
    "\n",
    "#### transpose of a matrix"
   ]
  },
  {
   "cell_type": "code",
   "execution_count": 48,
   "metadata": {},
   "outputs": [
    {
     "name": "stdout",
     "output_type": "stream",
     "text": [
      "[[16]]\n"
     ]
    }
   ],
   "source": [
    "tr = np.matrix('[3, 4; 12, 13]')\n",
    "\n",
    "tracem = tr.trace()\n",
    "\n",
    "print(tracem)\n",
    "\n",
    "#### trace of a matrix"
   ]
  }
 ],
 "metadata": {
  "interpreter": {
   "hash": "5d240ba0dc525c389faa33f5dcce5b4f32b6d6aa6d70d6d2dd929bd2b09ab69f"
  },
  "kernelspec": {
   "display_name": "Python 3.10.0 64-bit",
   "language": "python",
   "name": "python3"
  },
  "language_info": {
   "codemirror_mode": {
    "name": "ipython",
    "version": 3
   },
   "file_extension": ".py",
   "mimetype": "text/x-python",
   "name": "python",
   "nbconvert_exporter": "python",
   "pygments_lexer": "ipython3",
   "version": "3.10.0"
  },
  "orig_nbformat": 4
 },
 "nbformat": 4,
 "nbformat_minor": 2
}
